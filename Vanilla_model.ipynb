{
 "cells": [
  {
   "cell_type": "code",
   "execution_count": 1,
   "metadata": {},
   "outputs": [],
   "source": [
    "import matplotlib.pyplot as plt\n",
    "import numpy as np\n",
    "import os, shutil\n",
    "from keras import models\n",
    "from keras import layers\n",
    "from sklearn.metrics import confusion_matrix, f1_score\n",
    "np.random.seed(123)\n",
    "from keras.models import load_model\n",
    "from keras.preprocessing.image import ImageDataGenerator, array_to_img, img_to_array, load_img"
   ]
  },
  {
   "cell_type": "code",
   "execution_count": 2,
   "metadata": {},
   "outputs": [],
   "source": [
    "directory = 'Alzheimer_s Dataset/'"
   ]
  },
  {
   "cell_type": "code",
   "execution_count": 3,
   "metadata": {},
   "outputs": [],
   "source": [
    "test_directory = 'Alzheimer_s Dataset/test/'\n",
    "train_directory = 'Alzheimer_s Dataset/train/'"
   ]
  },
  {
   "cell_type": "code",
   "execution_count": 35,
   "metadata": {},
   "outputs": [],
   "source": [
    "data_genorator = ImageDataGenerator(rescale=1./255,validation_split=0.2, horizontal_flip=True)"
   ]
  },
  {
   "cell_type": "code",
   "execution_count": 36,
   "metadata": {},
   "outputs": [
    {
     "name": "stdout",
     "output_type": "stream",
     "text": [
      "Found 4098 images belonging to 4 classes.\n"
     ]
    }
   ],
   "source": [
    "data_train= data_genorator.flow_from_directory( \n",
    "        train_directory, \n",
    "        subset= 'training',\n",
    "        target_size=(224, 224), \n",
    "        batch_size = 4098, \n",
    "        seed = 123)"
   ]
  },
  {
   "cell_type": "code",
   "execution_count": 37,
   "metadata": {},
   "outputs": [
    {
     "name": "stdout",
     "output_type": "stream",
     "text": [
      "Found 1023 images belonging to 4 classes.\n"
     ]
    }
   ],
   "source": [
    "data_valid = data_genorator.flow_from_directory( \n",
    "        train_directory, \n",
    "        subset= 'validation',\n",
    "        target_size=(224, 224), \n",
    "        batch_size = 1023, \n",
    "        seed = 123)"
   ]
  },
  {
   "cell_type": "code",
   "execution_count": 38,
   "metadata": {},
   "outputs": [
    {
     "name": "stdout",
     "output_type": "stream",
     "text": [
      "Found 1279 images belonging to 4 classes.\n"
     ]
    }
   ],
   "source": [
    "data_test= ImageDataGenerator(rescale=1./255).flow_from_directory( \n",
    "        test_directory, \n",
    "        subset= 'training',\n",
    "        target_size=(224, 224), \n",
    "        batch_size = 1279, \n",
    "        seed = 123)"
   ]
  },
  {
   "cell_type": "code",
   "execution_count": 39,
   "metadata": {},
   "outputs": [],
   "source": [
    "train_images, train_labels = next(data_train)\n",
    "\n",
    "test_images, test_labels = next(data_test)\n",
    "\n",
    "valid_images, valid_labels = next(data_valid)"
   ]
  },
  {
   "cell_type": "code",
   "execution_count": 40,
   "metadata": {},
   "outputs": [],
   "source": [
    "def get_label(array):\n",
    "    if array[0] ==1:\n",
    "        return 0\n",
    "    elif array[1] ==1:\n",
    "        return 1\n",
    "    elif array[2] ==1:\n",
    "        return 2\n",
    "    elif array[3] ==1:\n",
    "        return 3"
   ]
  },
  {
   "cell_type": "code",
   "execution_count": 41,
   "metadata": {},
   "outputs": [],
   "source": [
    "train_label_names = np.apply_along_axis(get_label,1,train_labels)\n",
    "\n",
    "test_label_names = np.apply_along_axis(get_label,1,test_labels)\n",
    "\n",
    "valid_label_names = np.apply_along_axis(get_label,1,valid_labels)"
   ]
  },
  {
   "cell_type": "code",
   "execution_count": 42,
   "metadata": {},
   "outputs": [
    {
     "data": {
      "text/plain": [
       "(4098, 4)"
      ]
     },
     "execution_count": 42,
     "metadata": {},
     "output_type": "execute_result"
    }
   ],
   "source": [
    "train_labels.shape"
   ]
  },
  {
   "cell_type": "code",
   "execution_count": 43,
   "metadata": {},
   "outputs": [
    {
     "data": {
      "text/plain": [
       "(4098, 224, 224, 3)"
      ]
     },
     "execution_count": 43,
     "metadata": {},
     "output_type": "execute_result"
    }
   ],
   "source": [
    "train_images.shape"
   ]
  },
  {
   "cell_type": "code",
   "execution_count": 44,
   "metadata": {},
   "outputs": [],
   "source": [
    "x_train = train_images.reshape(4098,150528)\n",
    "\n",
    "x_test = test_images.reshape(1279,150528)\n",
    "\n",
    "x_valid = valid_images.reshape(1023,150528)\n",
    "\n"
   ]
  },
  {
   "cell_type": "code",
   "execution_count": 45,
   "metadata": {},
   "outputs": [],
   "source": [
    "from __future__ import print_function\n",
    "\n",
    "import keras\n",
    "from keras.datasets import mnist\n",
    "from keras.models import Sequential\n",
    "from keras.layers import Dense, Dropout\n",
    "from keras.optimizers import RMSprop\n",
    "from keras.optimizers import Adam, SGD\n",
    "from keras.metrics import Recall, Precision "
   ]
  },
  {
   "cell_type": "code",
   "execution_count": 46,
   "metadata": {},
   "outputs": [],
   "source": [
    "from keras.utils import to_categorical\n",
    "import tensorflow as tf\n",
    "from keras.callbacks import EarlyStopping"
   ]
  },
  {
   "cell_type": "code",
   "execution_count": 49,
   "metadata": {},
   "outputs": [
    {
     "name": "stdout",
     "output_type": "stream",
     "text": [
      "(4098, 224, 224, 3)\n",
      "(4098, 150528)\n"
     ]
    }
   ],
   "source": [
    "print(train_images.shape)\n",
    "print(x_train.shape)"
   ]
  },
  {
   "cell_type": "code",
   "execution_count": 47,
   "metadata": {
    "scrolled": true
   },
   "outputs": [
    {
     "name": "stdout",
     "output_type": "stream",
     "text": [
      "Model: \"sequential_1\"\n",
      "_________________________________________________________________\n",
      "Layer (type)                 Output Shape              Param #   \n",
      "=================================================================\n",
      "dense_3 (Dense)              (None, 30)                4515870   \n",
      "_________________________________________________________________\n",
      "dense_4 (Dense)              (None, 30)                930       \n",
      "_________________________________________________________________\n",
      "dense_5 (Dense)              (None, 4)                 124       \n",
      "=================================================================\n",
      "Total params: 4,516,924\n",
      "Trainable params: 4,516,924\n",
      "Non-trainable params: 0\n",
      "_________________________________________________________________\n",
      "Epoch 1/30\n",
      "274/274 [==============================] - 7s 25ms/step - loss: 1.5323 - accuracy: 0.4971 - recall_1: 0.4392 - val_loss: 1.4594 - val_accuracy: 0.4057 - val_recall_1: 0.2991\n",
      "Epoch 2/30\n",
      "274/274 [==============================] - 7s 27ms/step - loss: 0.9474 - accuracy: 0.5832 - recall_1: 0.4993 - val_loss: 1.2434 - val_accuracy: 0.3969 - val_recall_1: 0.2199\n",
      "Epoch 3/30\n",
      "274/274 [==============================] - 5s 19ms/step - loss: 0.9344 - accuracy: 0.5520 - recall_1: 0.4258 - val_loss: 1.0036 - val_accuracy: 0.5093 - val_recall_1: 0.4076\n",
      "Epoch 4/30\n",
      "274/274 [==============================] - 5s 19ms/step - loss: 0.8404 - accuracy: 0.5861 - recall_1: 0.4322 - val_loss: 1.0139 - val_accuracy: 0.4663 - val_recall_1: 0.3089\n",
      "Epoch 5/30\n",
      "274/274 [==============================] - 6s 22ms/step - loss: 0.8320 - accuracy: 0.5998 - recall_1: 0.4895 - val_loss: 1.2357 - val_accuracy: 0.5239 - val_recall_1: 0.4526\n",
      "Epoch 6/30\n",
      "274/274 [==============================] - 6s 21ms/step - loss: 0.8116 - accuracy: 0.6137 - recall_1: 0.4878 - val_loss: 1.0464 - val_accuracy: 0.4575 - val_recall_1: 0.2923\n",
      "Epoch 7/30\n",
      "274/274 [==============================] - 6s 21ms/step - loss: 0.7575 - accuracy: 0.6406 - recall_1: 0.5534 - val_loss: 1.0602 - val_accuracy: 0.4653 - val_recall_1: 0.3226\n",
      "Epoch 8/30\n",
      "274/274 [==============================] - 6s 23ms/step - loss: 0.7659 - accuracy: 0.6347 - recall_1: 0.5569 - val_loss: 1.0613 - val_accuracy: 0.4907 - val_recall_1: 0.4018\n",
      "Epoch 00008: early stopping\n",
      "test loss: 1.343581199645996\n",
      "Test recall: 0.5074276924133301\n",
      "Test Accuracy 0.5215011835098267\n"
     ]
    }
   ],
   "source": [
    "batch_size = 15\n",
    "num_classes = 4\n",
    "epochs = 30\n",
    "\n",
    "\n",
    "y_train = keras.utils.to_categorical(test_labels, num_classes)\n",
    "\n",
    "y_valid = keras.utils.to_categorical(test_labels, num_classes)\n",
    "\n",
    "\n",
    "\n",
    "model = Sequential()\n",
    "\n",
    "model.add(Dense(30, activation='relu',input_shape=(150528,),use_bias=True,bias_initializer='zeros'))\n",
    "\n",
    "model.add(Dense(30, activation='relu',use_bias=True,bias_initializer='zeros'))\n",
    "\n",
    "\n",
    "model.add(Dense(num_classes, activation='softmax'))\n",
    "\n",
    "model.summary()\n",
    "\n",
    "model.compile(loss='categorical_crossentropy',\n",
    "              optimizer= Adam(),\n",
    "              metrics=['accuracy',Recall()])\n",
    "\n",
    "early_stop = EarlyStopping(monitor='val_loss',patience=5,verbose=1,mode='auto')\n",
    "\n",
    "history = model.fit(x_train, train_labels,\n",
    "                    batch_size=batch_size,\n",
    "                    epochs=epochs,\n",
    "                    verbose=1,\n",
    "                    callbacks= [early_stop],\n",
    "                    validation_data=(x_valid, valid_labels))\n",
    "score = model.evaluate(x_test, test_labels, verbose=0)\n",
    "print('test loss:', score[0])\n",
    "print('Test recall:', score[2])\n",
    "print('Test Accuracy', score[1])"
   ]
  },
  {
   "cell_type": "code",
   "execution_count": 57,
   "metadata": {},
   "outputs": [
    {
     "name": "stdout",
     "output_type": "stream",
     "text": [
      "Test Accuracy 0.35027363896369934\n"
     ]
    }
   ],
   "source": [
    "print('Test Accuracy', score[1])"
   ]
  },
  {
   "cell_type": "code",
   "execution_count": 31,
   "metadata": {},
   "outputs": [
    {
     "data": {
      "text/plain": [
       "([0, 1, 2, 3],\n",
       " [Text(0, 0, ''), Text(0, 0, ''), Text(0, 0, ''), Text(0, 0, '')])"
      ]
     },
     "execution_count": 31,
     "metadata": {},
     "output_type": "execute_result"
    },
    {
     "data": {
      "image/png": "[encoded data removed]",
      "text/plain": [
       "<Figure size 432x288 with 1 Axes>"
      ]
     },
     "metadata": {
      "needs_background": "light"
     },
     "output_type": "display_data"
    }
   ],
   "source": [
    "plt.bar(['MildDemented','ModerateDemented','NonDemented','VeryMildDemented'], sum(train_labels))\n",
    "plt.xticks(rotation=45)"
   ]
  },
  {
   "cell_type": "code",
   "execution_count": 18,
   "metadata": {},
   "outputs": [],
   "source": [
    "import pandas as pd\n",
    "import matplotlib.pyplot as plt"
   ]
  },
  {
   "cell_type": "code",
   "execution_count": 48,
   "metadata": {},
   "outputs": [
    {
     "data": {
      "image/png": "[encoded data removed]",
      "text/plain": [
       "<Figure size 720x576 with 1 Axes>"
      ]
     },
     "metadata": {
      "needs_background": "light"
     },
     "output_type": "display_data"
    }
   ],
   "source": [
    "history_df = pd.DataFrame(history.history)\n",
    "history_df.plot(figsize=(10,8))\n",
    "plt.grid(True)\n",
    "plt.gca().set_ylim(0,1)\n",
    "plt.show()"
   ]
  },
  {
   "cell_type": "code",
   "execution_count": 78,
   "metadata": {},
   "outputs": [
    {
     "data": {
      "text/html": [
       "<div>\n",
       "<style scoped>\n",
       "    .dataframe tbody tr th:only-of-type {\n",
       "        vertical-align: middle;\n",
       "    }\n",
       "\n",
       "    .dataframe tbody tr th {\n",
       "        vertical-align: top;\n",
       "    }\n",
       "\n",
       "    .dataframe thead th {\n",
       "        text-align: right;\n",
       "    }\n",
       "</style>\n",
       "<table border=\"1\" class=\"dataframe\">\n",
       "  <thead>\n",
       "    <tr style=\"text-align: right;\">\n",
       "      <th></th>\n",
       "      <th>loss</th>\n",
       "      <th>accuracy</th>\n",
       "      <th>recall_22</th>\n",
       "      <th>val_loss</th>\n",
       "      <th>val_accuracy</th>\n",
       "      <th>val_recall_22</th>\n",
       "    </tr>\n",
       "  </thead>\n",
       "  <tbody>\n",
       "    <tr>\n",
       "      <th>0</th>\n",
       "      <td>1.118261</td>\n",
       "      <td>0.603882</td>\n",
       "      <td>0.518066</td>\n",
       "      <td>0.953324</td>\n",
       "      <td>0.512219</td>\n",
       "      <td>0.405670</td>\n",
       "    </tr>\n",
       "    <tr>\n",
       "      <th>1</th>\n",
       "      <td>0.558446</td>\n",
       "      <td>0.729492</td>\n",
       "      <td>0.662842</td>\n",
       "      <td>0.946245</td>\n",
       "      <td>0.526882</td>\n",
       "      <td>0.485826</td>\n",
       "    </tr>\n",
       "    <tr>\n",
       "      <th>2</th>\n",
       "      <td>0.546953</td>\n",
       "      <td>0.748291</td>\n",
       "      <td>0.709961</td>\n",
       "      <td>1.254552</td>\n",
       "      <td>0.569892</td>\n",
       "      <td>0.559140</td>\n",
       "    </tr>\n",
       "    <tr>\n",
       "      <th>3</th>\n",
       "      <td>0.465803</td>\n",
       "      <td>0.774292</td>\n",
       "      <td>0.749390</td>\n",
       "      <td>1.046701</td>\n",
       "      <td>0.558162</td>\n",
       "      <td>0.474096</td>\n",
       "    </tr>\n",
       "    <tr>\n",
       "      <th>4</th>\n",
       "      <td>0.473568</td>\n",
       "      <td>0.780518</td>\n",
       "      <td>0.762817</td>\n",
       "      <td>1.162857</td>\n",
       "      <td>0.474096</td>\n",
       "      <td>0.462366</td>\n",
       "    </tr>\n",
       "    <tr>\n",
       "      <th>5</th>\n",
       "      <td>0.370003</td>\n",
       "      <td>0.826660</td>\n",
       "      <td>0.815796</td>\n",
       "      <td>1.783528</td>\n",
       "      <td>0.406647</td>\n",
       "      <td>0.403715</td>\n",
       "    </tr>\n",
       "    <tr>\n",
       "      <th>6</th>\n",
       "      <td>0.363354</td>\n",
       "      <td>0.827637</td>\n",
       "      <td>0.818970</td>\n",
       "      <td>1.051349</td>\n",
       "      <td>0.521017</td>\n",
       "      <td>0.509286</td>\n",
       "    </tr>\n",
       "  </tbody>\n",
       "</table>\n",
       "</div>"
      ],
      "text/plain": [
       "       loss  accuracy  recall_22  val_loss  val_accuracy  val_recall_22\n",
       "0  1.118261  0.603882   0.518066  0.953324      0.512219       0.405670\n",
       "1  0.558446  0.729492   0.662842  0.946245      0.526882       0.485826\n",
       "2  0.546953  0.748291   0.709961  1.254552      0.569892       0.559140\n",
       "3  0.465803  0.774292   0.749390  1.046701      0.558162       0.474096\n",
       "4  0.473568  0.780518   0.762817  1.162857      0.474096       0.462366\n",
       "5  0.370003  0.826660   0.815796  1.783528      0.406647       0.403715\n",
       "6  0.363354  0.827637   0.818970  1.051349      0.521017       0.509286"
      ]
     },
     "execution_count": 78,
     "metadata": {},
     "output_type": "execute_result"
    }
   ],
   "source": [
    "history_df.head(10)"
   ]
  },
  {
   "cell_type": "code",
   "execution_count": 83,
   "metadata": {},
   "outputs": [
    {
     "data": {
      "text/plain": [
       "<tensorflow.python.keras.engine.sequential.Sequential at 0x7fd439b56310>"
      ]
     },
     "execution_count": 83,
     "metadata": {},
     "output_type": "execute_result"
    }
   ],
   "source": [
    "model"
   ]
  },
  {
   "cell_type": "code",
   "execution_count": null,
   "metadata": {},
   "outputs": [],
   "source": []
  }
 ],
 "metadata": {
  "kernelspec": {
   "display_name": "Python 3",
   "language": "python",
   "name": "python3"
  },
  "language_info": {
   "codemirror_mode": {
    "name": "ipython",
    "version": 3
   },
   "file_extension": ".py",
   "mimetype": "text/x-python",
   "name": "python",
   "nbconvert_exporter": "python",
   "pygments_lexer": "ipython3",
   "version": "3.6.10"
  }
 },
 "nbformat": 4,
 "nbformat_minor": 4
}
