{
 "cells": [
  {
   "cell_type": "code",
   "execution_count": 138,
   "metadata": {},
   "outputs": [],
   "source": [
    "import matplotlib.pyplot as plt\n",
    "import numpy as np\n",
    "import os, shutil\n",
    "from keras import models\n",
    "from keras import layers\n",
    "from sklearn.metrics import confusion_matrix, f1_score\n",
    "np.random.seed(123)\n",
    "from keras.models import load_model\n",
    "from keras.preprocessing.image import ImageDataGenerator, array_to_img, img_to_array, load_img"
   ]
  },
  {
   "cell_type": "code",
   "execution_count": 139,
   "metadata": {},
   "outputs": [],
   "source": [
    "from __future__ import print_function\n",
    "\n",
    "import keras\n",
    "from keras.datasets import mnist\n",
    "from keras.models import Sequential\n",
    "from keras.layers import Dense, Dropout\n",
    "from keras.optimizers import RMSprop\n",
    "from keras.optimizers import Adam, SGD\n",
    "from keras.metrics import Recall, Precision \n",
    "from keras.callbacks import EarlyStopping\n",
    "from keras.utils import to_categorical\n",
    "from keras.callbacks import EarlyStopping\n",
    "import tensorflow as tf"
   ]
  },
  {
   "cell_type": "code",
   "execution_count": 2,
   "metadata": {},
   "outputs": [],
   "source": [
    "directory = 'Alzheimer_s Dataset/'"
   ]
  },
  {
   "cell_type": "code",
   "execution_count": 3,
   "metadata": {},
   "outputs": [],
   "source": [
    "test_directory = 'Alzheimer_s Dataset/test/'\n",
    "train_directory = 'Alzheimer_s Dataset/train/'"
   ]
  },
  {
   "cell_type": "code",
   "execution_count": 35,
   "metadata": {},
   "outputs": [],
   "source": [
    "data_genorator = ImageDataGenerator(rescale=1./255,validation_split=0.2)"
   ]
  },
  {
   "cell_type": "code",
   "execution_count": 96,
   "metadata": {},
   "outputs": [
    {
     "data": {
      "text/plain": [
       "tensorflow.python.keras.preprocessing.image.ImageDataGenerator"
      ]
     },
     "execution_count": 96,
     "metadata": {},
     "output_type": "execute_result"
    }
   ],
   "source": [
    "type(data_genorator)"
   ]
  },
  {
   "cell_type": "code",
   "execution_count": 36,
   "metadata": {},
   "outputs": [
    {
     "name": "stdout",
     "output_type": "stream",
     "text": [
      "Found 4098 images belonging to 4 classes.\n"
     ]
    }
   ],
   "source": [
    "data_train= data_genorator.flow_from_directory( \n",
    "        train_directory, \n",
    "        subset= 'training',\n",
    "        target_size=(224, 224), \n",
    "        batch_size = 4098, \n",
    "        seed = 123)"
   ]
  },
  {
   "cell_type": "code",
   "execution_count": 37,
   "metadata": {},
   "outputs": [
    {
     "name": "stdout",
     "output_type": "stream",
     "text": [
      "Found 1023 images belonging to 4 classes.\n"
     ]
    }
   ],
   "source": [
    "data_valid = data_genorator.flow_from_directory( \n",
    "        train_directory, \n",
    "        subset= 'validation',\n",
    "        target_size=(224, 224), \n",
    "        batch_size = 1023, \n",
    "        seed = 123)"
   ]
  },
  {
   "cell_type": "code",
   "execution_count": 38,
   "metadata": {},
   "outputs": [
    {
     "name": "stdout",
     "output_type": "stream",
     "text": [
      "Found 1279 images belonging to 4 classes.\n"
     ]
    }
   ],
   "source": [
    "data_test= ImageDataGenerator(rescale=1./255).flow_from_directory( \n",
    "        test_directory, \n",
    "        subset= 'training',\n",
    "        target_size=(224, 224), \n",
    "        batch_size = 1279, \n",
    "        seed = 123)"
   ]
  },
  {
   "cell_type": "code",
   "execution_count": 39,
   "metadata": {},
   "outputs": [],
   "source": [
    "train_images, train_labels = next(data_train)\n",
    "\n",
    "test_images, test_labels = next(data_test)\n",
    "\n",
    "valid_images, valid_labels = next(data_valid)"
   ]
  },
  {
   "cell_type": "code",
   "execution_count": 143,
   "metadata": {},
   "outputs": [
    {
     "name": "stdout",
     "output_type": "stream",
     "text": [
      "Found 717 images belonging to 1 classes.\n",
      "Found 717 images belonging to 1 classes.\n",
      "Found 52 images belonging to 1 classes.\n",
      "Found 52 images belonging to 1 classes.\n",
      "Found 52 images belonging to 1 classes.\n",
      "Found 52 images belonging to 1 classes.\n",
      "Found 52 images belonging to 1 classes.\n",
      "Found 52 images belonging to 1 classes.\n",
      "Found 52 images belonging to 1 classes.\n",
      "Found 52 images belonging to 1 classes.\n",
      "Found 52 images belonging to 1 classes.\n"
     ]
    }
   ],
   "source": [
    "#Augmeneting minority classes\n",
    "\n",
    "#create image generators\n",
    "hflip = ImageDataGenerator(rescale=1./255,horizontal_flip=True)\n",
    "vflip = ImageDataGenerator(rescale=1./255,vertical_flip=True)\n",
    "hshift = ImageDataGenerator(rescale=1./255,width_shift_range=(-40,40))\n",
    "vshift = ImageDataGenerator(rescale=1./255,height_shift_range=(-40,40))\n",
    "rotation = ImageDataGenerator(rescale=1./255,rotation_range=90)\n",
    "shear = ImageDataGenerator(rescale=1./255,shear_range=45)\n",
    "hvflip = ImageDataGenerator(rescale=1./255,horizontal_flip=True,vertical_flip=True)\n",
    "bright = ImageDataGenerator(rescale=1./255,brightness_range=(.2,1))\n",
    "bright_rot = ImageDataGenerator(rescale=1./255,brightness_range=(.2,1),rotation_range=90)\n",
    "\n",
    "\n",
    "augmentors = [hflip,vflip,hshift,vshift,rotation,shear,hvflip,bright,bright_rot]\n",
    "\n",
    "#iterate through augmentors and generate augmented image sets\n",
    "mild_augmented = []\n",
    "mod_augmented = []\n",
    "\n",
    "for augmentor in augmentors[:2]:\n",
    "\n",
    "    aug_mild = augmentor.flow_from_directory( \n",
    "        train_directory, \n",
    "        target_size=(224, 224), \n",
    "        batch_size = 717, \n",
    "        seed = 123,\n",
    "        classes= ['MildDemented'])\n",
    "    \n",
    "    mild_augmented.append(aug_mild)\n",
    "\n",
    "for augmentor in augmentors:    \n",
    "\n",
    "    aug_moderate = augmentor.flow_from_directory( \n",
    "        train_directory, \n",
    "        target_size=(224, 224), \n",
    "        batch_size = 52, \n",
    "        seed = 123,\n",
    "        classes= ['ModerateDemented'])\n",
    "    \n",
    "    mod_augmented.append(aug_moderate)\n",
    "    \n",
    "\n",
    "#extract image matricies from generators and separate out images matricies from labels\n",
    "data_mild_aug = [next(mild) for mild in mild_augmented]  \n",
    "data_mod_aug = [next(mod) for mod in mod_augmented]\n",
    "\n",
    "mild_aug_images = [images[0] for images in data_mild_aug]\n",
    "mod_aug_images = [images[0] for images in data_mod_aug]"
   ]
  },
  {
   "cell_type": "code",
   "execution_count": 144,
   "metadata": {},
   "outputs": [],
   "source": [
    "#concat all matricies together\n",
    "concat_mild_images = np.vstack(mild_aug_images)\n",
    "concat_mod_images = np.vstack(mod_aug_images)"
   ]
  },
  {
   "cell_type": "code",
   "execution_count": 145,
   "metadata": {},
   "outputs": [],
   "source": [
    "#create label matricies \n",
    "concat_mild_labels = np.array([[1.,0.,0.,0.] for i in range(len(concat_mild_images))])\n",
    "concat_mod_labels = np.array([[0.,1.,0.,0.] for i in range(len(concat_mod_images))])"
   ]
  },
  {
   "cell_type": "code",
   "execution_count": 146,
   "metadata": {},
   "outputs": [],
   "source": [
    "#concat back to original training data\n",
    "train_images_aug = np.concatenate((train_images,concat_mild_images,concat_mod_images))\n",
    "train_labels_aug = np.concatenate((train_labels,concat_mild_labels,concat_mod_labels))"
   ]
  },
  {
   "cell_type": "code",
   "execution_count": 161,
   "metadata": {},
   "outputs": [],
   "source": [
    "import pickle"
   ]
  },
  {
   "cell_type": "code",
   "execution_count": 163,
   "metadata": {},
   "outputs": [],
   "source": [
    "pickle_out = open('train_aug.pickle','wb')\n",
    "pickle.dump((train_images_aug,train_labels_aug),pickle_out)\n",
    "pickle_out.close()\n"
   ]
  },
  {
   "cell_type": "code",
   "execution_count": 147,
   "metadata": {},
   "outputs": [
    {
     "data": {
      "text/plain": [
       "([0, 1, 2, 3],\n",
       " [Text(0, 0, ''), Text(0, 0, ''), Text(0, 0, ''), Text(0, 0, '')])"
      ]
     },
     "execution_count": 147,
     "metadata": {},
     "output_type": "execute_result"
    },
    {
     "data": {
      "image/png": "[encoded data removed]",
      "text/plain": [
       "<Figure size 432x288 with 1 Axes>"
      ]
     },
     "metadata": {
      "needs_background": "light"
     },
     "output_type": "display_data"
    }
   ],
   "source": [
    "plt.bar(['MildDemented','ModerateDemented','NonDemented','VeryMildDemented'], sum(train_labels))\n",
    "plt.xticks(rotation=45)"
   ]
  },
  {
   "cell_type": "code",
   "execution_count": 148,
   "metadata": {},
   "outputs": [
    {
     "data": {
      "text/plain": [
       "([0, 1, 2, 3],\n",
       " [Text(0, 0, ''), Text(0, 0, ''), Text(0, 0, ''), Text(0, 0, '')])"
      ]
     },
     "execution_count": 148,
     "metadata": {},
     "output_type": "execute_result"
    },
    {
     "data": {
      "image/png": "[encoded data removed]",
      "text/plain": [
       "<Figure size 432x288 with 1 Axes>"
      ]
     },
     "metadata": {
      "needs_background": "light"
     },
     "output_type": "display_data"
    }
   ],
   "source": [
    "plt.bar(['MildDemented','ModerateDemented','NonDemented','VeryMildDemented'], sum(train_labels_aug))\n",
    "plt.xticks(rotation=45)"
   ]
  },
  {
   "cell_type": "code",
   "execution_count": 132,
   "metadata": {},
   "outputs": [],
   "source": [
    "def get_label(array):\n",
    "    if array[0] ==1:\n",
    "        return 0\n",
    "    elif array[1] ==1:\n",
    "        return 1\n",
    "    elif array[2] ==1:\n",
    "        return 2\n",
    "    elif array[3] ==1:\n",
    "        return 3"
   ]
  },
  {
   "cell_type": "code",
   "execution_count": 133,
   "metadata": {},
   "outputs": [],
   "source": [
    "train_label_names = np.apply_along_axis(get_label,1,train_labels)\n",
    "\n",
    "test_label_names = np.apply_along_axis(get_label,1,test_labels)\n",
    "\n",
    "valid_label_names = np.apply_along_axis(get_label,1,valid_labels)"
   ]
  },
  {
   "cell_type": "code",
   "execution_count": 156,
   "metadata": {},
   "outputs": [],
   "source": [
    "x_train = train_images.reshape(4098,150528)\n",
    "\n",
    "x_train_aug = train_images_aug.reshape(6000,150528)\n",
    "\n",
    "x_test = test_images.reshape(1279,150528)\n",
    "\n",
    "x_valid = valid_images.reshape(1023,150528)"
   ]
  },
  {
   "cell_type": "markdown",
   "metadata": {},
   "source": [
    "## First Vanilla Model"
   ]
  },
  {
   "cell_type": "code",
   "execution_count": 140,
   "metadata": {
    "scrolled": true
   },
   "outputs": [
    {
     "name": "stdout",
     "output_type": "stream",
     "text": [
      "Model: \"sequential_2\"\n",
      "_________________________________________________________________\n",
      "Layer (type)                 Output Shape              Param #   \n",
      "=================================================================\n",
      "dense_6 (Dense)              (None, 30)                4515870   \n",
      "_________________________________________________________________\n",
      "dense_7 (Dense)              (None, 30)                930       \n",
      "_________________________________________________________________\n",
      "dense_8 (Dense)              (None, 4)                 124       \n",
      "=================================================================\n",
      "Total params: 4,516,924\n",
      "Trainable params: 4,516,924\n",
      "Non-trainable params: 0\n",
      "_________________________________________________________________\n",
      "Epoch 1/30\n",
      "274/274 [==============================] - 9s 33ms/step - loss: 1.8343 - accuracy: 0.5178 - recall_2: 0.4907 - val_loss: 1.6131 - val_accuracy: 0.4027 - val_recall_2: 0.3705\n",
      "Epoch 2/30\n",
      "274/274 [==============================] - 7s 27ms/step - loss: 0.9886 - accuracy: 0.6013 - recall_2: 0.5544 - val_loss: 2.1112 - val_accuracy: 0.4946 - val_recall_2: 0.4858\n",
      "Epoch 3/30\n",
      "274/274 [==============================] - 6s 21ms/step - loss: 0.9220 - accuracy: 0.6169 - recall_2: 0.5705 - val_loss: 1.2515 - val_accuracy: 0.2893 - val_recall_2: 0.1838\n",
      "Epoch 4/30\n",
      "274/274 [==============================] - 4s 16ms/step - loss: 0.8027 - accuracy: 0.6530 - recall_2: 0.5781 - val_loss: 1.1127 - val_accuracy: 0.4614 - val_recall_2: 0.3959\n",
      "Epoch 5/30\n",
      "274/274 [==============================] - 4s 16ms/step - loss: 0.9132 - accuracy: 0.5488 - recall_2: 0.4070 - val_loss: 1.0907 - val_accuracy: 0.5005 - val_recall_2: 0.0176\n",
      "Epoch 6/30\n",
      "274/274 [==============================] - 4s 15ms/step - loss: 0.9755 - accuracy: 0.5032 - recall_2: 0.3460 - val_loss: 1.0487 - val_accuracy: 0.4946 - val_recall_2: 0.3998\n",
      "Epoch 7/30\n",
      "274/274 [==============================] - 4s 13ms/step - loss: 0.9395 - accuracy: 0.5168 - recall_2: 0.3824 - val_loss: 1.0121 - val_accuracy: 0.4995 - val_recall_2: 0.3656\n",
      "Epoch 8/30\n",
      "274/274 [==============================] - 4s 14ms/step - loss: 0.9090 - accuracy: 0.5339 - recall_2: 0.3716 - val_loss: 1.0106 - val_accuracy: 0.5308 - val_recall_2: 0.3636\n",
      "Epoch 9/30\n",
      "274/274 [==============================] - 4s 14ms/step - loss: 0.8748 - accuracy: 0.5522 - recall_2: 0.3729 - val_loss: 1.0254 - val_accuracy: 0.4399 - val_recall_2: 0.2845\n",
      "Epoch 10/30\n",
      "274/274 [==============================] - 4s 14ms/step - loss: 0.8624 - accuracy: 0.5656 - recall_2: 0.3692 - val_loss: 1.0423 - val_accuracy: 0.4643 - val_recall_2: 0.2366\n",
      "Epoch 11/30\n",
      "274/274 [==============================] - 4s 13ms/step - loss: 0.8483 - accuracy: 0.5800 - recall_2: 0.4097 - val_loss: 0.9838 - val_accuracy: 0.5112 - val_recall_2: 0.3763\n",
      "Epoch 12/30\n",
      "274/274 [==============================] - 3s 13ms/step - loss: 0.8076 - accuracy: 0.6005 - recall_2: 0.4751 - val_loss: 1.0535 - val_accuracy: 0.4790 - val_recall_2: 0.3177\n",
      "Epoch 13/30\n",
      "274/274 [==============================] - 4s 14ms/step - loss: 0.8117 - accuracy: 0.6020 - recall_2: 0.5122 - val_loss: 0.9552 - val_accuracy: 0.4878 - val_recall_2: 0.3578\n",
      "Epoch 14/30\n",
      "274/274 [==============================] - 4s 14ms/step - loss: 0.7994 - accuracy: 0.6098 - recall_2: 0.5203 - val_loss: 1.0425 - val_accuracy: 0.4927 - val_recall_2: 0.4301\n",
      "Epoch 15/30\n",
      "274/274 [==============================] - 4s 13ms/step - loss: 0.7827 - accuracy: 0.6169 - recall_2: 0.5532 - val_loss: 1.0792 - val_accuracy: 0.4682 - val_recall_2: 0.4301\n",
      "Epoch 16/30\n",
      "274/274 [==============================] - 4s 13ms/step - loss: 0.7248 - accuracy: 0.6576 - recall_2: 0.6186 - val_loss: 0.9565 - val_accuracy: 0.5337 - val_recall_2: 0.4614\n",
      "Epoch 17/30\n",
      "274/274 [==============================] - 4s 14ms/step - loss: 0.7845 - accuracy: 0.6232 - recall_2: 0.5627 - val_loss: 1.0124 - val_accuracy: 0.5093 - val_recall_2: 0.4731\n",
      "Epoch 18/30\n",
      "274/274 [==============================] - 4s 14ms/step - loss: 0.7560 - accuracy: 0.6374 - recall_2: 0.6022 - val_loss: 1.0013 - val_accuracy: 0.5083 - val_recall_2: 0.4604\n",
      "Epoch 00018: early stopping\n",
      "test loss: 1.6241084337234497\n",
      "Test recall: 0.5066457986831665\n",
      "Test Accuracy 0.5215011835098267\n"
     ]
    }
   ],
   "source": [
    "batch_size = 15\n",
    "num_classes = 4\n",
    "epochs = 30\n",
    "\n",
    "\n",
    "model = Sequential()\n",
    "\n",
    "model.add(Dense(30, activation='relu',input_shape=(150528,),use_bias=True,bias_initializer='zeros'))\n",
    "\n",
    "model.add(Dense(30, activation='relu',use_bias=True,bias_initializer='zeros'))\n",
    "\n",
    "\n",
    "model.add(Dense(num_classes, activation='softmax'))\n",
    "\n",
    "model.summary()\n",
    "\n",
    "model.compile(loss='categorical_crossentropy',\n",
    "              optimizer= Adam(),\n",
    "              metrics=['accuracy',Recall()])\n",
    "\n",
    "early_stop = EarlyStopping(monitor='val_loss',patience=5,verbose=1,mode='auto')\n",
    "\n",
    "history = model.fit(x_train, train_labels,\n",
    "                    batch_size=batch_size,\n",
    "                    epochs=epochs,\n",
    "                    verbose=1,\n",
    "                    callbacks= [early_stop],\n",
    "                    validation_data=(x_valid, valid_labels))\n",
    "score = model.evaluate(x_test, test_labels, verbose=0)\n",
    "print('test loss:', score[0])\n",
    "print('Test recall:', score[2])\n",
    "print('Test Accuracy', score[1])"
   ]
  },
  {
   "cell_type": "code",
   "execution_count": 149,
   "metadata": {},
   "outputs": [],
   "source": [
    "import pandas as pd\n",
    "import matplotlib.pyplot as plt"
   ]
  },
  {
   "cell_type": "code",
   "execution_count": 184,
   "metadata": {},
   "outputs": [
    {
     "data": {
      "image/png": "[encoded data removed]",
      "text/plain": [
       "<Figure size 720x576 with 1 Axes>"
      ]
     },
     "metadata": {
      "needs_background": "light"
     },
     "output_type": "display_data"
    }
   ],
   "source": [
    "history_df = pd.DataFrame(history.history)\n",
    "history_df.plot(figsize=(10,8))\n",
    "plt.grid(True)\n",
    "plt.gca().set_ylim(0,1)\n",
    "plt.show()"
   ]
  },
  {
   "cell_type": "code",
   "execution_count": 151,
   "metadata": {},
   "outputs": [
    {
     "data": {
      "text/html": [
       "<div>\n",
       "<style scoped>\n",
       "    .dataframe tbody tr th:only-of-type {\n",
       "        vertical-align: middle;\n",
       "    }\n",
       "\n",
       "    .dataframe tbody tr th {\n",
       "        vertical-align: top;\n",
       "    }\n",
       "\n",
       "    .dataframe thead th {\n",
       "        text-align: right;\n",
       "    }\n",
       "</style>\n",
       "<table border=\"1\" class=\"dataframe\">\n",
       "  <thead>\n",
       "    <tr style=\"text-align: right;\">\n",
       "      <th></th>\n",
       "      <th>loss</th>\n",
       "      <th>accuracy</th>\n",
       "      <th>recall_2</th>\n",
       "      <th>val_loss</th>\n",
       "      <th>val_accuracy</th>\n",
       "      <th>val_recall_2</th>\n",
       "    </tr>\n",
       "  </thead>\n",
       "  <tbody>\n",
       "    <tr>\n",
       "      <th>0</th>\n",
       "      <td>1.834350</td>\n",
       "      <td>0.517814</td>\n",
       "      <td>0.490727</td>\n",
       "      <td>1.613069</td>\n",
       "      <td>0.402737</td>\n",
       "      <td>0.370479</td>\n",
       "    </tr>\n",
       "    <tr>\n",
       "      <th>1</th>\n",
       "      <td>0.988574</td>\n",
       "      <td>0.601269</td>\n",
       "      <td>0.554417</td>\n",
       "      <td>2.111170</td>\n",
       "      <td>0.494624</td>\n",
       "      <td>0.485826</td>\n",
       "    </tr>\n",
       "    <tr>\n",
       "      <th>2</th>\n",
       "      <td>0.922002</td>\n",
       "      <td>0.616886</td>\n",
       "      <td>0.570522</td>\n",
       "      <td>1.251529</td>\n",
       "      <td>0.289345</td>\n",
       "      <td>0.183773</td>\n",
       "    </tr>\n",
       "    <tr>\n",
       "      <th>3</th>\n",
       "      <td>0.802703</td>\n",
       "      <td>0.653001</td>\n",
       "      <td>0.578087</td>\n",
       "      <td>1.112704</td>\n",
       "      <td>0.461388</td>\n",
       "      <td>0.395894</td>\n",
       "    </tr>\n",
       "    <tr>\n",
       "      <th>4</th>\n",
       "      <td>0.913175</td>\n",
       "      <td>0.548804</td>\n",
       "      <td>0.407028</td>\n",
       "      <td>1.090681</td>\n",
       "      <td>0.500489</td>\n",
       "      <td>0.017595</td>\n",
       "    </tr>\n",
       "    <tr>\n",
       "      <th>5</th>\n",
       "      <td>0.975530</td>\n",
       "      <td>0.503172</td>\n",
       "      <td>0.346022</td>\n",
       "      <td>1.048733</td>\n",
       "      <td>0.494624</td>\n",
       "      <td>0.399805</td>\n",
       "    </tr>\n",
       "    <tr>\n",
       "      <th>6</th>\n",
       "      <td>0.939547</td>\n",
       "      <td>0.516837</td>\n",
       "      <td>0.382382</td>\n",
       "      <td>1.012090</td>\n",
       "      <td>0.499511</td>\n",
       "      <td>0.365591</td>\n",
       "    </tr>\n",
       "    <tr>\n",
       "      <th>7</th>\n",
       "      <td>0.908984</td>\n",
       "      <td>0.533919</td>\n",
       "      <td>0.371645</td>\n",
       "      <td>1.010552</td>\n",
       "      <td>0.530792</td>\n",
       "      <td>0.363636</td>\n",
       "    </tr>\n",
       "    <tr>\n",
       "      <th>8</th>\n",
       "      <td>0.874844</td>\n",
       "      <td>0.552221</td>\n",
       "      <td>0.372865</td>\n",
       "      <td>1.025409</td>\n",
       "      <td>0.439883</td>\n",
       "      <td>0.284457</td>\n",
       "    </tr>\n",
       "    <tr>\n",
       "      <th>9</th>\n",
       "      <td>0.862448</td>\n",
       "      <td>0.565642</td>\n",
       "      <td>0.369204</td>\n",
       "      <td>1.042263</td>\n",
       "      <td>0.464321</td>\n",
       "      <td>0.236559</td>\n",
       "    </tr>\n",
       "    <tr>\n",
       "      <th>10</th>\n",
       "      <td>0.848344</td>\n",
       "      <td>0.580039</td>\n",
       "      <td>0.409712</td>\n",
       "      <td>0.983767</td>\n",
       "      <td>0.511241</td>\n",
       "      <td>0.376344</td>\n",
       "    </tr>\n",
       "    <tr>\n",
       "      <th>11</th>\n",
       "      <td>0.807552</td>\n",
       "      <td>0.600537</td>\n",
       "      <td>0.475110</td>\n",
       "      <td>1.053538</td>\n",
       "      <td>0.478983</td>\n",
       "      <td>0.317693</td>\n",
       "    </tr>\n",
       "    <tr>\n",
       "      <th>12</th>\n",
       "      <td>0.811679</td>\n",
       "      <td>0.602001</td>\n",
       "      <td>0.512201</td>\n",
       "      <td>0.955197</td>\n",
       "      <td>0.487781</td>\n",
       "      <td>0.357771</td>\n",
       "    </tr>\n",
       "    <tr>\n",
       "      <th>13</th>\n",
       "      <td>0.799396</td>\n",
       "      <td>0.609810</td>\n",
       "      <td>0.520254</td>\n",
       "      <td>1.042502</td>\n",
       "      <td>0.492669</td>\n",
       "      <td>0.430108</td>\n",
       "    </tr>\n",
       "    <tr>\n",
       "      <th>14</th>\n",
       "      <td>0.782719</td>\n",
       "      <td>0.616886</td>\n",
       "      <td>0.553197</td>\n",
       "      <td>1.079199</td>\n",
       "      <td>0.468231</td>\n",
       "      <td>0.430108</td>\n",
       "    </tr>\n",
       "    <tr>\n",
       "      <th>15</th>\n",
       "      <td>0.724833</td>\n",
       "      <td>0.657638</td>\n",
       "      <td>0.618594</td>\n",
       "      <td>0.956514</td>\n",
       "      <td>0.533724</td>\n",
       "      <td>0.461388</td>\n",
       "    </tr>\n",
       "    <tr>\n",
       "      <th>16</th>\n",
       "      <td>0.784539</td>\n",
       "      <td>0.623231</td>\n",
       "      <td>0.562714</td>\n",
       "      <td>1.012425</td>\n",
       "      <td>0.509286</td>\n",
       "      <td>0.473118</td>\n",
       "    </tr>\n",
       "    <tr>\n",
       "      <th>17</th>\n",
       "      <td>0.756032</td>\n",
       "      <td>0.637384</td>\n",
       "      <td>0.602245</td>\n",
       "      <td>1.001340</td>\n",
       "      <td>0.508309</td>\n",
       "      <td>0.460411</td>\n",
       "    </tr>\n",
       "  </tbody>\n",
       "</table>\n",
       "</div>"
      ],
      "text/plain": [
       "        loss  accuracy  recall_2  val_loss  val_accuracy  val_recall_2\n",
       "0   1.834350  0.517814  0.490727  1.613069      0.402737      0.370479\n",
       "1   0.988574  0.601269  0.554417  2.111170      0.494624      0.485826\n",
       "2   0.922002  0.616886  0.570522  1.251529      0.289345      0.183773\n",
       "3   0.802703  0.653001  0.578087  1.112704      0.461388      0.395894\n",
       "4   0.913175  0.548804  0.407028  1.090681      0.500489      0.017595\n",
       "5   0.975530  0.503172  0.346022  1.048733      0.494624      0.399805\n",
       "6   0.939547  0.516837  0.382382  1.012090      0.499511      0.365591\n",
       "7   0.908984  0.533919  0.371645  1.010552      0.530792      0.363636\n",
       "8   0.874844  0.552221  0.372865  1.025409      0.439883      0.284457\n",
       "9   0.862448  0.565642  0.369204  1.042263      0.464321      0.236559\n",
       "10  0.848344  0.580039  0.409712  0.983767      0.511241      0.376344\n",
       "11  0.807552  0.600537  0.475110  1.053538      0.478983      0.317693\n",
       "12  0.811679  0.602001  0.512201  0.955197      0.487781      0.357771\n",
       "13  0.799396  0.609810  0.520254  1.042502      0.492669      0.430108\n",
       "14  0.782719  0.616886  0.553197  1.079199      0.468231      0.430108\n",
       "15  0.724833  0.657638  0.618594  0.956514      0.533724      0.461388\n",
       "16  0.784539  0.623231  0.562714  1.012425      0.509286      0.473118\n",
       "17  0.756032  0.637384  0.602245  1.001340      0.508309      0.460411"
      ]
     },
     "execution_count": 151,
     "metadata": {},
     "output_type": "execute_result"
    }
   ],
   "source": [
    "history_df"
   ]
  },
  {
   "cell_type": "code",
   "execution_count": 180,
   "metadata": {},
   "outputs": [],
   "source": [
    "from sklearn.metrics import confusion_matrix\n",
    "\n",
    "def plot_confusion_matrix(cm, classes,\n",
    "                          normalize=False,\n",
    "                          title='Confusion matrix',\n",
    "                          cmap=plt.cm.Blues):\n",
    "    \"\"\"\n",
    "    This function prints and plots the confusion matrix.\n",
    "    Normalization can be applied by setting `normalize=True`.\n",
    "    \"\"\"\n",
    "    if normalize:\n",
    "        cm = cm.astype('float') / cm.sum(axis=1)[:, np.newaxis]\n",
    "        print(\"Normalized confusion matrix\")\n",
    "    else:\n",
    "        print('Confusion Matrix, without normalization')\n",
    "\n",
    "    print(cm)\n",
    "\n",
    "    plt.imshow(cm, interpolation='nearest', cmap=cmap)\n",
    "    plt.title(title)\n",
    "    plt.colorbar()\n",
    "    tick_marks = np.arange(len(classes))\n",
    "    plt.xticks(tick_marks, classes, rotation=90)\n",
    "    plt.yticks(tick_marks, classes)\n",
    "\n",
    "    fmt = '.2f' if normalize else 'd'\n",
    "    thresh = cm.max() / 2.\n",
    "    for i, j in itertools.product(range(cm.shape[0]), range(cm.shape[1])):\n",
    "        plt.text(j, i, format(cm[i, j], fmt),\n",
    "                 horizontalalignment=\"center\",\n",
    "                 color=\"white\" if cm[i, j] > thresh else \"black\")\n",
    "\n",
    "    plt.tight_layout()\n",
    "    plt.ylabel('True label')\n",
    "    plt.xlabel('Predicted label')"
   ]
  },
  {
   "cell_type": "code",
   "execution_count": 181,
   "metadata": {},
   "outputs": [
    {
     "data": {
      "text/plain": [
       "array([2, 3, 0, ..., 0, 3, 3])"
      ]
     },
     "execution_count": 181,
     "metadata": {},
     "output_type": "execute_result"
    }
   ],
   "source": [
    "test_labels.argmax(axis=1)"
   ]
  },
  {
   "cell_type": "code",
   "execution_count": 182,
   "metadata": {},
   "outputs": [],
   "source": [
    "y_pred = model.predict_classes(x_test)\n"
   ]
  },
  {
   "cell_type": "code",
   "execution_count": 183,
   "metadata": {},
   "outputs": [
    {
     "name": "stdout",
     "output_type": "stream",
     "text": [
      "Confusion Matrix, without normalization\n",
      "[[ 46   0  94  39]\n",
      " [  5   0   4   3]\n",
      " [ 17   0 573  50]\n",
      " [ 51   0 297 100]]\n"
     ]
    },
    {
     "data": {
      "image/png": "[encoded data removed]",
      "text/plain": [
       "<Figure size 432x288 with 2 Axes>"
      ]
     },
     "metadata": {
      "needs_background": "light"
     },
     "output_type": "display_data"
    }
   ],
   "source": [
    "import itertools\n",
    "confusion = confusion_matrix(test_labels.argmax(axis=1),y_pred)\n",
    "plot_confusion_matrix(confusion,data_test.class_indices)"
   ]
  },
  {
   "cell_type": "markdown",
   "metadata": {},
   "source": [
    "## Vanilla Model with Augmented Images"
   ]
  },
  {
   "cell_type": "code",
   "execution_count": 153,
   "metadata": {},
   "outputs": [
    {
     "data": {
      "text/plain": [
       "(6717, 150528)"
      ]
     },
     "execution_count": 153,
     "metadata": {},
     "output_type": "execute_result"
    }
   ],
   "source": [
    "x_train_aug.shape"
   ]
  },
  {
   "cell_type": "code",
   "execution_count": 154,
   "metadata": {},
   "outputs": [
    {
     "data": {
      "text/plain": [
       "(6000, 4)"
      ]
     },
     "execution_count": 154,
     "metadata": {},
     "output_type": "execute_result"
    }
   ],
   "source": [
    "train_labels_aug.shape"
   ]
  },
  {
   "cell_type": "code",
   "execution_count": 160,
   "metadata": {},
   "outputs": [
    {
     "name": "stdout",
     "output_type": "stream",
     "text": [
      "Model: \"sequential_7\"\n",
      "_________________________________________________________________\n",
      "Layer (type)                 Output Shape              Param #   \n",
      "=================================================================\n",
      "dense_21 (Dense)             (None, 30)                4515870   \n",
      "_________________________________________________________________\n",
      "dense_22 (Dense)             (None, 30)                930       \n",
      "_________________________________________________________________\n",
      "dense_23 (Dense)             (None, 4)                 124       \n",
      "=================================================================\n",
      "Total params: 4,516,924\n",
      "Trainable params: 4,516,924\n",
      "Non-trainable params: 0\n",
      "_________________________________________________________________\n",
      "Epoch 1/40\n",
      "400/400 [==============================] - 11s 27ms/step - loss: 1.8022 - accuracy: 0.5158 - recall_7: 0.4538 - val_loss: 1.3430 - val_accuracy: 0.3881 - val_recall_7: 0.2561\n",
      "Epoch 2/40\n",
      "400/400 [==============================] - 11s 27ms/step - loss: 0.8985 - accuracy: 0.6252 - recall_7: 0.5463 - val_loss: 1.5924 - val_accuracy: 0.3490 - val_recall_7: 0.2551\n",
      "Epoch 3/40\n",
      "400/400 [==============================] - 10s 26ms/step - loss: 0.8386 - accuracy: 0.6542 - recall_7: 0.5948 - val_loss: 1.3621 - val_accuracy: 0.3773 - val_recall_7: 0.3148\n",
      "Epoch 4/40\n",
      "400/400 [==============================] - 10s 26ms/step - loss: 0.7217 - accuracy: 0.6990 - recall_7: 0.6457 - val_loss: 1.3706 - val_accuracy: 0.3920 - val_recall_7: 0.3441\n",
      "Epoch 5/40\n",
      "400/400 [==============================] - 11s 28ms/step - loss: 0.5837 - accuracy: 0.7558 - recall_7: 0.7062 - val_loss: 1.0302 - val_accuracy: 0.5103 - val_recall_7: 0.4487\n",
      "Epoch 6/40\n",
      "400/400 [==============================] - 11s 27ms/step - loss: 0.5473 - accuracy: 0.7733 - recall_7: 0.7333 - val_loss: 1.8995 - val_accuracy: 0.3959 - val_recall_7: 0.3871\n",
      "Epoch 7/40\n",
      "400/400 [==============================] - 12s 31ms/step - loss: 0.6128 - accuracy: 0.7505 - recall_7: 0.7190 - val_loss: 1.5678 - val_accuracy: 0.3861 - val_recall_7: 0.3529\n",
      "Epoch 8/40\n",
      "400/400 [==============================] - 11s 26ms/step - loss: 0.5164 - accuracy: 0.7908 - recall_7: 0.7628 - val_loss: 1.4792 - val_accuracy: 0.5191 - val_recall_7: 0.5015\n",
      "Epoch 9/40\n",
      "400/400 [==============================] - 11s 27ms/step - loss: 0.5355 - accuracy: 0.7790 - recall_7: 0.7530 - val_loss: 1.1105 - val_accuracy: 0.5494 - val_recall_7: 0.5161\n",
      "Epoch 10/40\n",
      "400/400 [==============================] - 10s 26ms/step - loss: 0.6283 - accuracy: 0.7595 - recall_7: 0.7188 - val_loss: 1.3753 - val_accuracy: 0.4614 - val_recall_7: 0.4203\n",
      "Epoch 00010: early stopping\n",
      "test loss: 1.384683609008789\n",
      "Test recall: 0.5215011835098267\n",
      "Test Accuracy 0.562157928943634\n"
     ]
    }
   ],
   "source": [
    "batch_size = 15\n",
    "num_classes = 4\n",
    "epochs = 40\n",
    "\n",
    "\n",
    "model = Sequential()\n",
    "\n",
    "model.add(Dense(30, activation='relu',input_shape=(150528,),use_bias=True,bias_initializer='zeros'))\n",
    "\n",
    "model.add(Dense(30, activation='relu',use_bias=True,bias_initializer='zeros'))\n",
    "\n",
    "\n",
    "model.add(Dense(num_classes, activation='softmax'))\n",
    "\n",
    "model.summary()\n",
    "\n",
    "model.compile(loss='categorical_crossentropy',\n",
    "              optimizer= Adam(),\n",
    "              metrics=['accuracy',Recall()])\n",
    "\n",
    "early_stop = EarlyStopping(monitor='val_loss',patience=5,verbose=1,mode='auto')\n",
    "\n",
    "history = model.fit(x_train_aug, train_labels_aug,\n",
    "                    batch_size=batch_size,\n",
    "                    epochs=epochs,\n",
    "                    verbose=1,\n",
    "                    callbacks= [early_stop],\n",
    "                    validation_data=(x_valid, valid_labels))\n",
    "score = model.evaluate(x_test, test_labels, verbose=0)\n",
    "print('test loss:', score[0])\n",
    "print('Test recall:', score[2])\n",
    "print('Test Accuracy', score[1])"
   ]
  }
 ],
 "metadata": {
  "kernelspec": {
   "display_name": "Python 3",
   "language": "python",
   "name": "python3"
  },
  "language_info": {
   "codemirror_mode": {
    "name": "ipython",
    "version": 3
   },
   "file_extension": ".py",
   "mimetype": "text/x-python",
   "name": "python",
   "nbconvert_exporter": "python",
   "pygments_lexer": "ipython3",
   "version": "3.8.3"
  }
 },
 "nbformat": 4,
 "nbformat_minor": 4
}
